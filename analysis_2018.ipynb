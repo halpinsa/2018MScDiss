{
 "cells": [
  {
   "cell_type": "markdown",
   "metadata": {},
   "source": [
    "This notebook contains analysis on 2018 data"
   ]
  },
  {
   "cell_type": "code",
   "execution_count": 65,
   "metadata": {},
   "outputs": [],
   "source": [
    "#helper function for confidence interval for pearsonr (sourced from github.com/zhiyzuo/pearsonr_ci.py):\n",
    "def pearsonr_ci(x,y,alpha=0.05):\n",
    "    ''' calculate Pearson correlation along with the confidence interval using scipy and numpy\n",
    "    Parameters\n",
    "    ----------\n",
    "    x, y : iterable object such as a list or np.array\n",
    "      Input for correlation calculation\n",
    "    alpha : float\n",
    "      Significance level. 0.05 by default\n",
    "    Returns\n",
    "    -------\n",
    "    r : float\n",
    "      Pearson's correlation coefficient\n",
    "    pval : float\n",
    "      The corresponding p value\n",
    "    lo, hi : float\n",
    "      The lower and upper bound of confidence intervals\n",
    "    '''\n",
    "\n",
    "    r, p = stats.pearsonr(x,y)\n",
    "    r_z = np.arctanh(r)\n",
    "    se = 1/np.sqrt(len(x)-3)\n",
    "    z = stats.norm.ppf(1-alpha/2)\n",
    "    lo_z, hi_z = r_z-z*se, r_z+z*se\n",
    "    lo, hi = np.tanh((lo_z, hi_z))\n",
    "    return r, p, lo, hi"
   ]
  },
  {
   "cell_type": "code",
   "execution_count": 3,
   "metadata": {},
   "outputs": [],
   "source": [
    "#Calculate scores for GAD-7 response data\n",
    "def gad(responses):\n",
    "    score_dict={'Not at all':0,'Several Days':1,'More than half the days':2,'Nearly every day':3}\n",
    "    score=0\n",
    "    for i in range(len(responses)):\n",
    "        score+=score_dict[responses['Q'+str(i)]]\n",
    "    return score"
   ]
  },
  {
   "cell_type": "code",
   "execution_count": 4,
   "metadata": {},
   "outputs": [],
   "source": [
    "#Function to calculate PANAS scores\n",
    "def panas(responses):\n",
    "    pos=[0,2,4,8,9,11,13,15,16,18]\n",
    "    neg=[1,3,5,6,7,10,12,14,17,19]\n",
    "    pas=0\n",
    "    nas=0\n",
    "    score_dict={' Very Slightly or Not at All ':1, 'A Little':2, 'Moderately':3, 'Quite a bit': 4, 'Extremely':5}\n",
    "    for i in range(len(responses)):\n",
    "        if i in pos:\n",
    "            pas+=score_dict[responses['Q'+str(i)]]\n",
    "        else:\n",
    "            nas+=score_dict[responses['Q'+str(i)]]\n",
    "    return pas, nas\n",
    "            "
   ]
  },
  {
   "cell_type": "code",
   "execution_count": 5,
   "metadata": {},
   "outputs": [],
   "source": [
    "#Function to calculate LOT-R scores\n",
    "def lotr(responses):\n",
    "    score=0\n",
    "    pos=[0,3,9]\n",
    "    neg=[1,6,8]\n",
    "    score_dict={'I strongly disagree':0,'I disagree':1,'I neither agree nor disagree':2,'I agree':3,'I strongly agree':4}\n",
    "    rev_score_dict={'I strongly disagree':4,'I disagree':3,'I neither agree nor disagree':2,'I agree':1,'I strongly agree':0}\n",
    "    for i in range(len(responses)):\n",
    "        if i in pos:\n",
    "            score+=score_dict[responses['Q'+str(i)]]\n",
    "        elif i in neg:\n",
    "            score+=rev_score_dict[responses['Q'+str(i)]]\n",
    "    return score"
   ]
  },
  {
   "cell_type": "code",
   "execution_count": 66,
   "metadata": {},
   "outputs": [],
   "source": [
    "import numpy as np\n",
    "import pandas as pd\n",
    "import matplotlib.pyplot as plt\n",
    "from scipy import stats\n",
    "#read in only 2018 data\n",
    "f=pd.read_json('clean_data.json','r')\n",
    "no_ind=44\n",
    "\n",
    "#Populate relevant arrays with responses for questions associated with each statement\n",
    "\n",
    "before_resp=[[] for i in range(len(f))]\n",
    "after_resp=[[] for i in range(len(f))]\n",
    "confidence=[[] for i in range(no_ind)]\n",
    "prior_knowledge=[[] for i in range(no_ind)]\n",
    "no_for=[[] for i in range(len(f))]\n",
    "no_against=[[] for i in range(len(f))]\n",
    "no_blanc=[[] for i in range(len(f))]\n",
    "no_noir=[[] for i in range(len(f))]\n",
    "no_gris=[[] for i in range(len(f))]\n",
    "fear_score=[[] for i in range(len(f))]\n",
    "emo_score=[[] for i in range(len(f))]\n",
    "hope_score=[[] for i in range(len(f))]\n",
    "rel_score=[[] for i in range(len(f))]\n",
    "time_dict_list=[[dict() for x in range(16)] for y in range(no_ind)]\n",
    "noir_bias=[]\n",
    "blanc_bias=[]\n",
    "gris_bias=[]\n",
    "panas_responses=[]\n",
    "gad_responses=[]\n",
    "lotr_responses=[]\n",
    "for i in range(no_ind):\n",
    "    jj=0\n",
    "    for j in range(5,100):\n",
    "        a=f.iloc[i][j]\n",
    "        if a['internal_node_id'].endswith('-4.0'):\n",
    "            if a['statementResponse']==100:\n",
    "                after_resp[i].append(99)\n",
    "            else:\n",
    "                after_resp[i].append(a['statementResponse'])\n",
    "        elif a['internal_node_id'].endswith('0.0'):\n",
    "            if a['statementResponse']==100:\n",
    "                before_resp[i].append(99)\n",
    "            else:\n",
    "                before_resp[i].append(a['statementResponse'])\n",
    "        elif a['internal_node_id'].endswith('-1.0'):\n",
    "            confidence[i].append(a['responses'][0])\n",
    "            prior_knowledge[i].append(a['responses'][1])\n",
    "            emo_score[i].append(a['responses'][2])\n",
    "            rel_score[i].append(a['responses'][3])\n",
    "        elif a['internal_node_id'].endswith('2.0'):\n",
    "            hope_score[i].append(a['responses'][0])\n",
    "            fear_score[i].append(a['responses'][1])\n",
    "        elif a['internal_node_id'].endswith('3.0'):\n",
    "            no_for[i].append(len(a['alphaNews'])+a['firstForAgainst'].count('for'))\n",
    "            no_against[i].append(len(a['premierNews'])+a['firstForAgainst'].count('against'))\n",
    "            no_blanc[i].append(len(a['alphaNews']))\n",
    "            no_noir[i].append(len(a['premierNews']))\n",
    "            no_gris[i].append(len(a['firstNews']))\n",
    "            for item in a['alphaNews']:\n",
    "                time_dict_list[i][jj][str(item)]='for'\n",
    "            for item in a['premierNews']:\n",
    "                time_dict_list[i][jj][str(item)]='against'\n",
    "            for k in range(len(a['firstNews'])):\n",
    "                time_dict_list[i][jj][str(a['firstNews'][k])] = a['firstForAgainst'][k]\n",
    "            jj+=1\n",
    "    if i<8:\n",
    "        gad_resp=f.iloc[i][103]\n",
    "        lotr_resp=f.iloc[i][104]\n",
    "        panas_resp=f.iloc[i][105]\n",
    "        panas_responses.append(panas_resp['responses'])\n",
    "        gad_responses.append(gad_resp['responses'])\n",
    "        lotr_responses.append(lotr_resp['responses'])\n",
    "    else:\n",
    "        noir_bias.append(100-f.iloc[i][101]['premierBias'])\n",
    "        gris_bias.append(100-f.iloc[i][101]['firstBias'])\n",
    "        blanc_bias.append(100-f.iloc[i][101]['alphaBias'])\n",
    "        gad_resp=f.iloc[i][104]\n",
    "        lotr_resp=f.iloc[i][105]\n",
    "        panas_resp=f.iloc[i][106]\n",
    "        panas_responses.append(panas_resp['responses'])\n",
    "        gad_responses.append(gad_resp['responses'])\n",
    "        lotr_responses.append(lotr_resp['responses'])\n",
    "emo_score=np.asarray(emo_score)\n",
    "fear_score=np.asarray(fear_score)\n",
    "rel_score=np.asarray(rel_score)\n",
    "hope_score=np.asarray(hope_score)"
   ]
  },
  {
   "cell_type": "markdown",
   "metadata": {},
   "source": [
    "News Bias"
   ]
  },
  {
   "cell_type": "code",
   "execution_count": 67,
   "metadata": {},
   "outputs": [
    {
     "name": "stdout",
     "output_type": "stream",
     "text": [
      "50.833333333333336 55.638888888888886 42.361111111111114\n"
     ]
    },
    {
     "data": {
      "text/plain": [
       "F_onewayResult(statistic=2.0915101250179395, pvalue=0.12861607635122965)"
      ]
     },
     "execution_count": 67,
     "metadata": {},
     "output_type": "execute_result"
    }
   ],
   "source": [
    "print(np.mean(blanc_bias),np.mean(noir_bias),np.mean(gris_bias))\n",
    "stats.f_oneway(blanc_bias,noir_bias,gris_bias)"
   ]
  },
  {
   "cell_type": "markdown",
   "metadata": {},
   "source": [
    "Acquisition Bias"
   ]
  },
  {
   "cell_type": "code",
   "execution_count": 68,
   "metadata": {},
   "outputs": [
    {
     "name": "stdout",
     "output_type": "stream",
     "text": [
      "704\n",
      "F_onewayResult(statistic=9.467637795452397, pvalue=8.065024200194857e-05)\n"
     ]
    },
    {
     "data": {
      "image/png": "[encoded data removed]",
      "text/plain": [
       "<matplotlib.figure.Figure at 0x26d8c7d0be0>"
      ]
     },
     "metadata": {},
     "output_type": "display_data"
    }
   ],
   "source": [
    "#Plot mean number of clicks and standard error bars for each news source\n",
    "import itertools\n",
    "from scipy import stats\n",
    "blanc = np.ndarray.flatten(np.asarray(no_blanc))\n",
    "noir=np.ndarray.flatten(np.asarray(no_noir))\n",
    "gris=np.ndarray.flatten(np.asarray(no_gris))\n",
    "\n",
    "means=[np.mean(blanc),np.mean(noir),np.mean(gris)]\n",
    "sems=[np.std(blanc),np.std(noir),np.std(gris)]/np.sqrt(44)\n",
    "err=np.ones((2,3))\n",
    "err[:,0]=abs(means[0]-stats.norm.interval(0.95,loc=np.mean(blanc),scale=np.std(blanc)/np.sqrt(len(blanc))))\n",
    "err[:,1]=abs(means[1]-stats.norm.interval(0.95,loc=np.mean(noir),scale=np.std(noir)/np.sqrt(len(noir))))\n",
    "err[:,2]=abs(means[2]-stats.norm.interval(0.95,loc=np.mean(gris),scale=np.std(gris)/np.sqrt(len(gris))))\n",
    "#print(err)\n",
    "objects=['Blanc','Noir','Gris']\n",
    "y = np.arange(len(objects))\n",
    "plt.figure(figsize=(12,8))\n",
    "plt.bar(y,means,yerr=err,capsize=5)\n",
    "plt.xticks(y,objects)\n",
    "plt.ylabel('Total Clicks')\n",
    "\n",
    "print(stats.f_oneway(noir, gris, blanc))"
   ]
  },
  {
   "cell_type": "markdown",
   "metadata": {},
   "source": [
    "Then do analysis on distribution of responses:"
   ]
  },
  {
   "cell_type": "code",
   "execution_count": 69,
   "metadata": {},
   "outputs": [],
   "source": [
    "before_arr=[]\n",
    "after_arr=[]\n",
    "for i in range(no_ind):\n",
    "    before_arr=before_arr+before_resp[i]\n",
    "    after_arr=after_arr+after_resp[i]"
   ]
  },
  {
   "cell_type": "code",
   "execution_count": 70,
   "metadata": {},
   "outputs": [
    {
     "data": {
      "image/png": "[encoded data removed]",
      "text/plain": [
       "<matplotlib.figure.Figure at 0x26d8c7fbdd8>"
      ]
     },
     "metadata": {},
     "output_type": "display_data"
    },
    {
     "data": {
      "image/png": "[encoded data removed]",
      "text/plain": [
       "<matplotlib.figure.Figure at 0x26d8cab5668>"
      ]
     },
     "metadata": {},
     "output_type": "display_data"
    },
    {
     "data": {
      "text/plain": [
       "<matplotlib.figure.Figure at 0x26d8caa71d0>"
      ]
     },
     "metadata": {},
     "output_type": "display_data"
    }
   ],
   "source": [
    "plt.figure()\n",
    "plt.hist(before_arr,30)\n",
    "plt.xlabel('Responses Before Evidence')\n",
    "plt.show()\n",
    "plt.hist(after_arr,30)\n",
    "plt.xlabel('Responses After Evidence')\n",
    "plt.show()\n",
    "plt.savefig('response_dist.png')"
   ]
  },
  {
   "cell_type": "markdown",
   "metadata": {},
   "source": [
    "Positive and negative beliefs"
   ]
  },
  {
   "cell_type": "code",
   "execution_count": 71,
   "metadata": {},
   "outputs": [],
   "source": [
    "statement_sent=[-1,-1,1,1,-1,1,-1,-1,1,1,1,1,-1,1,1,1]\n",
    "pos_belief=np.zeros((no_ind,16))\n",
    "for i in range(no_ind):\n",
    "    for j in range(len(before_resp[i])):\n",
    "        if statement_sent[j]==-1 and before_resp[i][j]<50:\n",
    "            pos_belief[i][j]=1\n",
    "        elif statement_sent[j]==1 and before_resp[i][j]>50:\n",
    "            pos_belief[i][j]=1\n",
    "p_pos=np.mean(pos_belief,axis=1)\n",
    "q_pos=np.mean(pos_belief,axis=0)"
   ]
  },
  {
   "cell_type": "markdown",
   "metadata": {},
   "source": [
    "Analysis of updates by question"
   ]
  },
  {
   "cell_type": "code",
   "execution_count": 75,
   "metadata": {},
   "outputs": [
    {
     "name": "stdout",
     "output_type": "stream",
     "text": [
      "(0.6122915688400493, 1.1713176620578121e-73)\n",
      "(0.6542705184020625, 3.0861201904843386e-87)\n",
      "(-0.7381462656274177, 0.0010951696941136672, -0.9033229746692958, -0.3823404784379693)\n",
      "(-0.6804924305394182, 0.003716869186220212, -0.8795161101375182, -0.2788497304187104)\n"
     ]
    }
   ],
   "source": [
    "from scipy import stats\n",
    "before=np.asarray(before_resp)\n",
    "after=np.asarray(after_resp)\n",
    "knowledge=np.asarray(prior_knowledge)\n",
    "conf=np.asarray(confidence)\n",
    "bef_tot=np.ndarray.flatten(before)\n",
    "aft_tot=np.ndarray.flatten(after)\n",
    "knowledge_tot=np.ndarray.flatten(knowledge)\n",
    "conf_tot=np.ndarray.flatten(conf)\n",
    "update=before-after\n",
    "no_for=np.asarray(no_for)\n",
    "no_against=np.asarray(no_against)\n",
    "acq_b=np.mean(no_for-no_against,axis=0)\n",
    "q_update=np.mean(abs(update),axis=0)\n",
    "p_update=np.mean(abs(update),axis=1)\n",
    "print(stats.pearsonr(knowledge_tot,conf_tot))\n",
    "print(stats.pearsonr(abs(50-bef_tot),conf_tot))\n",
    "print(pearsonr_ci(q_update,np.mean(knowledge,axis=0)))\n",
    "print(pearsonr_ci(q_update,np.mean(confidence,axis=0)))"
   ]
  },
  {
   "cell_type": "markdown",
   "metadata": {},
   "source": [
    "Calculate questionnaire scores:"
   ]
  },
  {
   "cell_type": "code",
   "execution_count": 76,
   "metadata": {},
   "outputs": [],
   "source": [
    "import ast\n",
    "gad_scores=[]\n",
    "pas_scores=[]\n",
    "nas_scores=[]\n",
    "lotr_scores=[]\n",
    "for i in range(len(panas_responses)):\n",
    "    pas_scores.append(panas(ast.literal_eval(panas_responses[i]))[0])\n",
    "    nas_scores.append(panas(ast.literal_eval(panas_responses[i]))[1])\n",
    "for i in range(len(gad_responses)):\n",
    "    gad_scores.append(gad(ast.literal_eval(gad_responses[i])))\n",
    "for i in range(len(lotr_responses)):\n",
    "    lotr_scores.append(lotr(ast.literal_eval(lotr_responses[i])))"
   ]
  },
  {
   "cell_type": "code",
   "execution_count": 77,
   "metadata": {},
   "outputs": [
    {
     "name": "stdout",
     "output_type": "stream",
     "text": [
      "Mean GAD score= 4.590909090909091, Standard Deviation 4.923589700329434\n",
      "Mean Pos. Affect score= 28.295454545454547, Standard Deviation 8.640758451176046\n",
      "Mean Neg. Affect score= 17.545454545454547, Standard Deviation 8.494529109573316\n",
      "Mean LOT-R score= 12.340909090909092, Standard Deviation 5.291258579522635\n"
     ]
    }
   ],
   "source": [
    "print('Mean GAD score= '+str(np.mean(gad_scores))+', Standard Deviation '+str(np.std(gad_scores)))\n",
    "print('Mean Pos. Affect score= '+str(np.mean(pas_scores))+', Standard Deviation '+str(np.std(pas_scores)))\n",
    "print('Mean Neg. Affect score= '+str(np.mean(nas_scores))+', Standard Deviation '+str(np.std(nas_scores)))\n",
    "print('Mean LOT-R score= '+str(np.mean(lotr_scores))+', Standard Deviation '+str(np.std(lotr_scores)))\n"
   ]
  },
  {
   "cell_type": "code",
   "execution_count": 78,
   "metadata": {},
   "outputs": [
    {
     "name": "stdout",
     "output_type": "stream",
     "text": [
      "(0.6922340232265244, 1.9391839939321222e-07, 0.49761985387029595, 0.8204940854080324)\n",
      "(-0.570693474593025, 5.233986153870814e-05, -0.7418789997840173, -0.3296679901698586)\n",
      "(-0.5489999150448467, 0.00011387023885477365, -0.7273340705301878, -0.3012135227735953)\n",
      "(-0.6358472052585129, 3.5188334182343617e-06, -0.7846153092621126, -0.41784335659628274)\n",
      "(-0.5856333112404685, 2.9660867400911904e-05, -0.7518029411277551, -0.3495218743952073)\n",
      "(0.8280552427558235, 4.075648168663511e-12, 0.704320285598071, 0.9029583416865734)\n"
     ]
    }
   ],
   "source": [
    "print(pearsonr_ci(pas_scores,lotr_scores))\n",
    "print(pearsonr_ci(pas_scores,nas_scores))\n",
    "print(pearsonr_ci(pas_scores,gad_scores))\n",
    "print(pearsonr_ci(lotr_scores,gad_scores))\n",
    "print(pearsonr_ci(lotr_scores,nas_scores))\n",
    "print(pearsonr_ci(gad_scores,nas_scores))"
   ]
  },
  {
   "cell_type": "markdown",
   "metadata": {},
   "source": [
    "Model 1 Conf Bias Calculation"
   ]
  },
  {
   "cell_type": "code",
   "execution_count": 80,
   "metadata": {},
   "outputs": [],
   "source": [
    "from scipy.optimize import least_squares\n",
    "from scipy.stats import beta\n",
    "import math\n",
    "\n",
    "no_for_arr=np.asarray(no_for)\n",
    "no_against_arr=np.asarray(no_against)\n",
    "before=np.asarray(before_resp)\n",
    "after=np.asarray(after_resp)\n",
    "no_true=np.zeros((no_ind,16))\n",
    "no_false=np.zeros((no_ind,16))\n",
    "\n",
    "#define evidence arrays in terms of agreement with statements\n",
    "for i in range(no_ind):\n",
    "    for j in range(len(no_for_arr[i])):\n",
    "        if before[i][j]>=50:\n",
    "            no_true[i][j]=no_for_arr[i][j]\n",
    "            no_false[i][j]=no_against_arr[i][j]\n",
    "        else:\n",
    "            no_true[i][j]=no_against_arr[i][j]\n",
    "            no_false[i][j]=no_for_arr[i][j]\n",
    "\n",
    "mode_new=np.zeros((no_ind,len(before[0])))\n",
    "for i in range(len(before)):\n",
    "    for j in range(len(before[i])):\n",
    "        y=before[i][j]*0.01\n",
    "        if y!=0.5:\n",
    "            #estimate prior:\n",
    "            def equations(p):\n",
    "                a,b = p\n",
    "                return ((a-1)/(a+b-2)-y,1/(confidence[i][j])-a*b/((a+b+1)*(a+b)**2))\n",
    "            res = least_squares(equations, (5, 2), bounds = ((1, 1), (math.inf, math.inf)))\n",
    "            a,b=res.x\n",
    "            dist= beta(a,b)\n",
    "            #define likelihood by evidence:\n",
    "            likelihood=x**no_true[i][j]*(1-x)**(15-no_true[i][j])\n",
    "            #posterior estimate\n",
    "            mode_new[i][j]=(a+no_true[i][j]-1)/(a+b+15-2)"
   ]
  },
  {
   "cell_type": "code",
   "execution_count": 17,
   "metadata": {},
   "outputs": [],
   "source": [
    "#conf bias calculation for Model 1:\n",
    "after_opt=mode_new*100\n",
    "confirm=np.zeros((len(mode_new),len(mode_new[0])))\n",
    "for i in range(len(confirm)):\n",
    "    for j in range(len(confirm[i])):\n",
    "        if before[i][j]>50:\n",
    "            confirm[i][j]=after[i][j]-after_opt[i][j]\n",
    "        elif before[i][j]<50:\n",
    "            confirm[i][j]=after_opt[i][j]-after[i][j]"
   ]
  },
  {
   "cell_type": "code",
   "execution_count": 18,
   "metadata": {},
   "outputs": [
    {
     "data": {
      "text/plain": [
       "(0.8274528401855423, 4.199925542268793e-178)"
      ]
     },
     "execution_count": 18,
     "metadata": {},
     "output_type": "execute_result"
    },
    {
     "data": {
      "image/png": "[encoded data removed]",
      "text/plain": [
       "<matplotlib.figure.Figure at 0x26d8bda5278>"
      ]
     },
     "metadata": {},
     "output_type": "display_data"
    }
   ],
   "source": [
    "#Prior vs. Posterior Responses\n",
    "plt.figure(figsize=(12,6))\n",
    "plt.scatter(before_resp,after_resp,10)\n",
    "plt.xlabel('Prior Response')\n",
    "plt.ylabel('Posterior Response')\n",
    "stats.pearsonr(np.concatenate(before_resp),np.concatenate(after_resp))"
   ]
  },
  {
   "cell_type": "code",
   "execution_count": 81,
   "metadata": {},
   "outputs": [
    {
     "name": "stdout",
     "output_type": "stream",
     "text": [
      "Ttest_1sampResult(statistic=16.91093854788738, pvalue=2.6146509492745255e-53)\n",
      "12.658808963777384\n",
      "1.4660277064710967\n"
     ]
    },
    {
     "data": {
      "text/plain": [
       "Text(0,0.5,'Number of Updates')"
      ]
     },
     "execution_count": 81,
     "metadata": {},
     "output_type": "execute_result"
    },
    {
     "data": {
      "image/png": "[encoded data removed]",
      "text/plain": [
       "<matplotlib.figure.Figure at 0x26d8c13e978>"
      ]
     },
     "metadata": {},
     "output_type": "display_data"
    }
   ],
   "source": [
    "#Plot distribution of confirmation bias scores, omitting neutral beliefs\n",
    "from scipy import stats\n",
    "zero_ind=[]\n",
    "for i in range(len(np.concatenate(confirm))):\n",
    "    if np.ndarray.flatten(np.asarray(before_resp))[i]==50:\n",
    "        zero_ind.append(i)\n",
    "confirm_adj=np.delete(np.concatenate(confirm),zero_ind)\n",
    "print(stats.ttest_1samp(confirm_adj,0))\n",
    "print(np.mean(confirm_adj))\n",
    "print(1.96*np.std(confirm_adj)/np.sqrt(len(confirm_adj)))\n",
    "plt.figure(figsize=(15,10))\n",
    "plt.rc('axes',labelsize=22)\n",
    "plt.rc('font',size=20)\n",
    "plt.rc('axes',titlesize=20)\n",
    "plt.hist(confirm_adj,40)\n",
    "plt.title('Distribution of confirmation bias')\n",
    "plt.xlabel('Confirmation Bias Score')\n",
    "plt.ylabel('Number of Updates')"
   ]
  },
  {
   "cell_type": "markdown",
   "metadata": {},
   "source": [
    "Model 2 Individual Conf Bias Calculation"
   ]
  },
  {
   "cell_type": "code",
   "execution_count": 82,
   "metadata": {},
   "outputs": [
    {
     "data": {
      "image/png": "[encoded data removed]",
      "text/plain": [
       "<matplotlib.figure.Figure at 0x26d8c2ec898>"
      ]
     },
     "metadata": {},
     "output_type": "display_data"
    },
    {
     "name": "stdout",
     "output_type": "stream",
     "text": [
      "(0.4427075514710737, 0.002618922024761416)\n",
      "0.015533831683163718\n"
     ]
    },
    {
     "data": {
      "text/plain": [
       "Ttest_1sampResult(statistic=0.20110869704131396, pvalue=0.841561873309555)"
      ]
     },
     "execution_count": 82,
     "metadata": {},
     "output_type": "execute_result"
    }
   ],
   "source": [
    "from scipy.optimize import least_squares\n",
    "from scipy.stats import pearsonr\n",
    "import math\n",
    "\n",
    "mode_new=np.zeros((no_ind,16))\n",
    "con_prob=np.zeros((no_ind,16))\n",
    "alpha_arr=np.zeros((no_ind,16))\n",
    "beta_arr=np.zeros((no_ind,16))\n",
    "cost=[]\n",
    "for i in range (no_ind):\n",
    "    for j in range(len(before[i])):\n",
    "        y=before[i][j]*0.01\n",
    "        if y!=0.5:\n",
    "            def equations(p):\n",
    "                a,b = p\n",
    "                return ((a-1)/(a+b-2)-y,1/confidence[i][j]-a*b/((a+b+1)*(a+b)**2))\n",
    "            res = least_squares(equations, (5, 2), bounds = ((1, 1), (math.inf, math.inf)))\n",
    "            a,b=res.x\n",
    "            alpha_arr[i][j]=a\n",
    "            beta_arr[i][j]=b\n",
    "\n",
    "weight_conf=np.zeros(no_ind)\n",
    "weight_disc=np.zeros(no_ind)\n",
    "weight_evid=np.zeros(no_ind)\n",
    "for i in range(no_ind):\n",
    "    def equation(x):\n",
    "        eqns=np.zeros(16)\n",
    "        for j in range(16):\n",
    "            if before[i][j]>=50:\n",
    "                eqns[j]=(0.01*after[i][j]-(alpha_arr[i][j]+x[0]*x[1]*no_true[i][j]-1)\n",
    "                         /(alpha_arr[i][j]+beta_arr[i][j]+x[0]*(x[1]*no_true[i][j] + x[2]*no_false[i][j])-2))\n",
    "            elif before[i][j]<50:\n",
    "                eqns[j]=(0.01*after[i][j]-(alpha_arr[i][j]+x[0]*x[2]*no_true[i][j]-1)\n",
    "                         /(alpha_arr[i][j]+beta_arr[i][j]+x[0]*(x[2]*no_true[i][j] + x[1]*no_false[i][j])-2))\n",
    "        return eqns\n",
    "    res= least_squares(equation,[0.01,0.5,0.5],bounds=([0,0,0],[np.inf,1,1]))\n",
    "    cost.append(res.cost)\n",
    "    weight_conf[i]=res.x[1]\n",
    "    weight_disc[i]=res.x[2]\n",
    "    weight_evid[i]=res.x[0]\n",
    "def sim_resp(i):\n",
    "    sim=np.zeros(16)\n",
    "    for j in range(16):\n",
    "        if before[i][j]>=50:\n",
    "            sim[j]=(alpha_arr[i][j]+res.x[0]*res.x[1]*no_true[i][j]-1)/(alpha_arr[i][j]+beta_arr[i][j]+res.x[0]*(res.x[1]*no_true[i][j] + res.x[2]*no_false[i][j])-2)\n",
    "        elif before[i][j]<50:\n",
    "            sim[j]=(alpha_arr[i][j]+res.x[0]*res.x[2]*no_true[i][j]-1)/(alpha_arr[i][j]+beta_arr[i][j]+res.x[0]*(res.x[2]*no_true[i][j] + res.x[1]*no_false[i][j])-2)\n",
    "    return sim\n",
    "\n",
    "model_resp=np.zeros((no_ind,16))\n",
    "for i in range(no_ind):\n",
    "    model_resp[i]=sim_resp(i)\n",
    "y_1,bins_1=np.histogram(np.ndarray.flatten(model_resp),30)\n",
    "plt.plot(bins_1[:len(bins_1)-1],y_1)\n",
    "y_2,bins_2=np.histogram(np.ndarray.flatten(0.01*after),30)\n",
    "plt.plot(bins_1[:len(bins_2)-1],y_2)\n",
    "plt.show()\n",
    "ll=[]\n",
    "for i in range(no_ind):\n",
    "    ll.append(cost[i])\n",
    "#confirmation for participants, model 2\n",
    "new_confirm=weight_conf-weight_disc\n",
    "\n",
    "#confirmation for participants, model 1\n",
    "ind_confirm=np.mean(confirm,axis=1)\n",
    "\n",
    "print(stats.pearsonr(new_confirm,ind_confirm))\n",
    "print(np.mean(new_confirm))\n",
    "\n",
    "stats.ttest_1samp(new_confirm,0)\n",
    "#print(ll)"
   ]
  },
  {
   "cell_type": "code",
   "execution_count": 21,
   "metadata": {},
   "outputs": [],
   "source": [
    "BIC=[]\n",
    "for i in range(no_ind):\n",
    "    BIC.append(4*np.log(16)+16*np.log(ll[i]))"
   ]
  },
  {
   "cell_type": "code",
   "execution_count": 22,
   "metadata": {},
   "outputs": [],
   "source": [
    "AIC=[]\n",
    "k=4\n",
    "for i in range(no_ind):\n",
    "    AIC.append(2*k+16*np.log(ll[i]))"
   ]
  },
  {
   "cell_type": "markdown",
   "metadata": {},
   "source": [
    "Model 2 Statement Conf Bias Calculation"
   ]
  },
  {
   "cell_type": "code",
   "execution_count": 84,
   "metadata": {},
   "outputs": [
    {
     "name": "stdout",
     "output_type": "stream",
     "text": [
      "(0.855168290035268, 2.4226395676832033e-05)\n",
      "0.23496822717498816\n"
     ]
    },
    {
     "data": {
      "text/plain": [
       "Ttest_1sampResult(statistic=5.322348186424896, pvalue=8.534953958070682e-05)"
      ]
     },
     "execution_count": 84,
     "metadata": {},
     "output_type": "execute_result"
    },
    {
     "data": {
      "image/png": "[encoded data removed]",
      "text/plain": [
       "<matplotlib.figure.Figure at 0x26d8bf8dbe0>"
      ]
     },
     "metadata": {},
     "output_type": "display_data"
    }
   ],
   "source": [
    "from scipy.optimize import least_squares\n",
    "from scipy.stats import pearsonr\n",
    "import math\n",
    "\n",
    "mode_new=np.zeros((no_ind,16))\n",
    "alpha_arr=np.zeros((no_ind,16))\n",
    "beta_arr=np.zeros((no_ind,16))\n",
    "for i in range (no_ind):\n",
    "    for j in range(len(before[i])):\n",
    "        y=before[i][j]*0.01\n",
    "        if y!=0.5:\n",
    "            #estimate priors for each statement and participant\n",
    "            def equations(p):\n",
    "                a,b = p\n",
    "                return ((a-1)/(a+b-2)-y,1/confidence[i][j]-a*b/((a+b+1)*(a+b)**2))\n",
    "            res = least_squares(equations, (5, 2), bounds = ((1, 1), (math.inf, math.inf)))\n",
    "            a,b=res.x\n",
    "            alpha_arr[i][j]=a\n",
    "            beta_arr[i][j]=b\n",
    "            \n",
    "#arrays for weights to be fitted\n",
    "weight_conf_q=np.zeros(16)\n",
    "weight_disc_q=np.zeros(16)\n",
    "weight_evid_q=np.zeros(16)\n",
    "cost_arr=[]\n",
    "for j in range(16):\n",
    "    def equation(x):\n",
    "        #fit responses to new mode defined by model with weights on conf and disc headlines:\n",
    "        eqns=np.zeros(no_ind)\n",
    "        for i in range(44):\n",
    "            if before[i][j]>=50:\n",
    "                eqns[i]=(0.01*after[i][j]-(alpha_arr[i][j]+x[0]*x[1]*no_true[i][j]-1)\n",
    "                         /(alpha_arr[i][j]+beta_arr[i][j]+x[0]*(x[1]*no_true[i][j] + x[2]*no_false[i][j])-2))\n",
    "            elif before[i][j]<50:\n",
    "                eqns[i]=(0.01*after[i][j]-(alpha_arr[i][j]+x[0]*x[2]*no_true[i][j]-1)\n",
    "                         /(alpha_arr[i][j]+beta_arr[i][j]+x[0]*(x[2]*no_true[i][j] + x[1]*no_false[i][j])-2))\n",
    "        return eqns\n",
    "    res= least_squares(equation,0.5*np.ones(3),bounds=([0,0,0],[np.inf,1,1]))\n",
    "    cost_arr.append(res.cost)\n",
    "    weight_conf_q[j]=res.x[1]\n",
    "    weight_disc_q[j]=res.x[2]\n",
    "    weight_evid_q[j]=res.x[0]\n",
    "#comparisons with model 1\n",
    "print(stats.pearsonr(weight_conf_q-weight_disc_q,np.mean(confirm,axis=0)))\n",
    "new_confirm_q=weight_conf_q-weight_disc_q\n",
    "plt.scatter(new_confirm_q, np.mean(confirm,axis=0))\n",
    "plt.xlabel('Confirmation Bias, Model 2')\n",
    "plt.ylabel('Confirmation Bias, Model 1')\n",
    "print(np.mean(new_confirm_q))\n",
    "stats.ttest_1samp(weight_conf_q-weight_disc_q,0)\n",
    "#print(ll)"
   ]
  },
  {
   "cell_type": "code",
   "execution_count": 85,
   "metadata": {},
   "outputs": [
    {
     "data": {
      "text/plain": [
       "24"
      ]
     },
     "execution_count": 85,
     "metadata": {},
     "output_type": "execute_result"
    }
   ],
   "source": [
    "np.sum(new_confirm>0)"
   ]
  },
  {
   "cell_type": "markdown",
   "metadata": {},
   "source": [
    "Reinforcement Learning Model"
   ]
  },
  {
   "cell_type": "code",
   "execution_count": 87,
   "metadata": {},
   "outputs": [],
   "source": [
    "#define rewards array for each set of headlines\n",
    "rewards=np.zeros((no_ind,16,15))\n",
    "for i in range(no_ind):\n",
    "    for j in range(16):\n",
    "        k=0\n",
    "        for key in sorted(time_dict_list[i][j].keys()):\n",
    "            if time_dict_list[i][j][key]=='for':\n",
    "                rewards[i][j][k]=1\n",
    "            k+=1"
   ]
  },
  {
   "cell_type": "markdown",
   "metadata": {},
   "source": [
    "Individual Bias"
   ]
  },
  {
   "cell_type": "code",
   "execution_count": 97,
   "metadata": {},
   "outputs": [],
   "source": [
    "from scipy.optimize import least_squares\n",
    "from scipy.special import logit,expit\n",
    "\n",
    "#RL update:\n",
    "def update(rho_ev,rho_c,rho_d,reward,V_0):\n",
    "    V=V_0\n",
    "    for i in range(len(reward)):\n",
    "        if reward[i]==1:\n",
    "            V= V + rho_ev*rho_c*(reward[i]-V)\n",
    "        elif reward[i]==0:\n",
    "            V= V + rho_ev*rho_d*(reward[i]-V)\n",
    "    return V\n",
    "\n",
    "#define value as belief in preferred hypothesis\n",
    "value_array=np.zeros((no_ind,16))\n",
    "after_array=np.zeros((no_ind,16))\n",
    "for i in range(no_ind):\n",
    "    for j in range(16):\n",
    "        if before_resp[i][j]>=50:\n",
    "            value_array[i][j]=before_resp[i][j]\n",
    "            after_array[i][j]=after_resp[i][j]\n",
    "        else:\n",
    "            value_array[i][j]=100-before_resp[i][j]\n",
    "            after_array[i][j]=100-after_resp[i][j]\n",
    "\n",
    "value_array=0.01*value_array\n",
    "confirm_rl=np.zeros(no_ind)\n",
    "alpha_con=[]\n",
    "alpha_dis=[]\n",
    "beta=[]\n",
    "ll_3=[]\n",
    "for i in range(no_ind):\n",
    "    #fit model updates to responses in data\n",
    "    def equation(x):\n",
    "        eqns=np.zeros(16)\n",
    "        k=0\n",
    "        for j in range(16):\n",
    "            eqns[j]=(0.01*after_array[i][j]-update(x[0],x[1],x[2],rewards[i][j],value_array[i][j]))\n",
    "            k+=1\n",
    "        return eqns\n",
    "    res= least_squares(equation,[0.01,0.5,0.5],bounds=([0,0,0],[1,1,1]))\n",
    "    ll_3.append(res.cost)\n",
    "    alpha_con.append(res.x[1])\n",
    "    alpha_dis.append(res.x[2])\n",
    "    beta.append(res.x[0])\n",
    "    confirm_rl[i]=(res.x[1]-res.x[2])\n",
    "    \n"
   ]
  },
  {
   "cell_type": "code",
   "execution_count": 98,
   "metadata": {},
   "outputs": [],
   "source": [
    "BIC_2=[]\n",
    "for i in range(no_ind):\n",
    "    BIC_2.append(4*np.log(16)+16*np.log(ll_3[i]))"
   ]
  },
  {
   "cell_type": "code",
   "execution_count": 99,
   "metadata": {},
   "outputs": [],
   "source": [
    "AIC_2=[]\n",
    "k=4\n",
    "for i in range(no_ind):\n",
    "    AIC_2.append(2*k+16*np.log(ll_3[i]))"
   ]
  },
  {
   "cell_type": "code",
   "execution_count": 100,
   "metadata": {},
   "outputs": [
    {
     "name": "stdout",
     "output_type": "stream",
     "text": [
      "16\n"
     ]
    }
   ],
   "source": [
    "print(np.sum(np.array(BIC)-np.array(BIC_2)>0))"
   ]
  },
  {
   "cell_type": "code",
   "execution_count": 101,
   "metadata": {},
   "outputs": [
    {
     "name": "stdout",
     "output_type": "stream",
     "text": [
      "(0.598025446978195, 1.8120583417661003e-05)\n",
      "22\n"
     ]
    },
    {
     "data": {
      "image/png": "[encoded data removed]",
      "text/plain": [
       "<matplotlib.figure.Figure at 0x26d8bdb80b8>"
      ]
     },
     "metadata": {},
     "output_type": "display_data"
    }
   ],
   "source": [
    "#correlation between models 2 and 3\n",
    "plt.scatter(new_confirm,confirm_rl)\n",
    "print(stats.pearsonr(new_confirm,confirm_rl))\n",
    "print(np.sum(confirm_rl>0))"
   ]
  },
  {
   "cell_type": "code",
   "execution_count": 102,
   "metadata": {},
   "outputs": [
    {
     "name": "stdout",
     "output_type": "stream",
     "text": [
      "(0.5156694119898835, 0.0003404105765669259)\n"
     ]
    },
    {
     "data": {
      "image/png": "[encoded data removed]",
      "text/plain": [
       "<matplotlib.figure.Figure at 0x26d8bcd68d0>"
      ]
     },
     "metadata": {},
     "output_type": "display_data"
    }
   ],
   "source": [
    "#correlation between model 1 and 3\n",
    "plt.scatter(ind_confirm,confirm_rl)\n",
    "print(stats.pearsonr(ind_confirm,confirm_rl))"
   ]
  },
  {
   "cell_type": "markdown",
   "metadata": {},
   "source": [
    "RL Bias by Statement"
   ]
  },
  {
   "cell_type": "code",
   "execution_count": 103,
   "metadata": {},
   "outputs": [],
   "source": [
    "from scipy.optimize import least_squares\n",
    "\n",
    "#fit same model but for each question\n",
    "confirm_rl_q=np.zeros(16)\n",
    "alpha_con_q=[]\n",
    "alpha_dis_q=[]\n",
    "beta_q=[]\n",
    "ll=[]\n",
    "for j in range(16):\n",
    "    def equation(x):\n",
    "        eqns=np.zeros(no_ind)\n",
    "        for i in range(no_ind):\n",
    "            eqns[i]=(0.01*after_array[i][j]-update(x[0],x[1],x[2],rewards[i][j],value_array[i][j]))\n",
    "        return eqns\n",
    "    res= least_squares(equation,[0.01,0.5,0.5],bounds=([0,0,0],[1,1,1]))\n",
    "    ll.append(res.cost)\n",
    "    alpha_con_q.append(res.x[1])\n",
    "    alpha_dis_q.append(res.x[2])\n",
    "    beta_q.append(res.x[0])\n",
    "    confirm_rl_q[j]=(res.x[1]-res.x[2])\n",
    "    "
   ]
  },
  {
   "cell_type": "code",
   "execution_count": 105,
   "metadata": {},
   "outputs": [
    {
     "data": {
      "text/plain": [
       "(-0.2126802245401045, 0.1657273932866905)"
      ]
     },
     "execution_count": 105,
     "metadata": {},
     "output_type": "execute_result"
    }
   ],
   "source": [
    "stats.pearsonr(confirm_rl,np.mean(emo_score,axis=1))"
   ]
  },
  {
   "cell_type": "code",
   "execution_count": 108,
   "metadata": {},
   "outputs": [
    {
     "data": {
      "text/plain": [
       "24"
      ]
     },
     "execution_count": 108,
     "metadata": {},
     "output_type": "execute_result"
    }
   ],
   "source": [
    "#number of biased participants Model 2:\n",
    "np.sum(new_confirm>0)"
   ]
  },
  {
   "cell_type": "code",
   "execution_count": 114,
   "metadata": {},
   "outputs": [
    {
     "data": {
      "text/plain": [
       "22"
      ]
     },
     "execution_count": 114,
     "metadata": {},
     "output_type": "execute_result"
    }
   ],
   "source": [
    "#number of biased participants Model 2:\n",
    "np.sum(np.array(confirm_rl)>0)"
   ]
  },
  {
   "cell_type": "code",
   "execution_count": 144,
   "metadata": {},
   "outputs": [],
   "source": [
    "#figure out biased participants under each model\n",
    "biased2=[]\n",
    "biased3=[]\n",
    "both=0\n",
    "model2=0\n",
    "model3=0\n",
    "neither=0\n",
    "for i in range(no_ind):\n",
    "    if new_confirm[i]>0:\n",
    "        biased2.append(i)\n",
    "    if confirm_rl[i]>0:\n",
    "        biased3.append(i)\n",
    "for i in range(no_ind):\n",
    "    if i in biased2 and i in biased3:\n",
    "        both+=1\n",
    "    elif i in biased2:\n",
    "        model2+=1\n",
    "    elif i in biased3:\n",
    "        model3+=1\n",
    "    else:\n",
    "        neither+=1"
   ]
  },
  {
   "cell_type": "code",
   "execution_count": 145,
   "metadata": {},
   "outputs": [
    {
     "name": "stdout",
     "output_type": "stream",
     "text": [
      "17 7 5 15\n"
     ]
    }
   ],
   "source": [
    "print(both, model2, model3, neither)"
   ]
  },
  {
   "cell_type": "code",
   "execution_count": 147,
   "metadata": {},
   "outputs": [],
   "source": [
    "#biased questions under RL model\n",
    "bias_q=[]\n",
    "non_bias_q=[]\n",
    "for i in range(16):\n",
    "    if confirm_rl[i]>0:\n",
    "        bias_q.append(i)\n",
    "    else:\n",
    "        non_bias_q.append(i)"
   ]
  },
  {
   "cell_type": "code",
   "execution_count": 119,
   "metadata": {},
   "outputs": [
    {
     "name": "stdout",
     "output_type": "stream",
     "text": [
      "(-0.057958891158335614, 0.12444469309255018)\n",
      "(-0.05050517160524832, 0.1807248230493462)\n"
     ]
    },
    {
     "data": {
      "image/png": "[encoded data removed]",
      "text/plain": [
       "<matplotlib.figure.Figure at 0x26d8c82d9b0>"
      ]
     },
     "metadata": {},
     "output_type": "display_data"
    },
    {
     "data": {
      "image/png": "[encoded data removed]",
      "text/plain": [
       "<matplotlib.figure.Figure at 0x26d8d774fd0>"
      ]
     },
     "metadata": {},
     "output_type": "display_data"
    }
   ],
   "source": [
    "print(stats.pearsonr(np.ndarray.flatten(confirm),np.ndarray.flatten(fear_score)))\n",
    "print(stats.pearsonr(np.ndarray.flatten(confirm),np.ndarray.flatten(hope_score)))\n",
    "plt.scatter(np.ndarray.flatten(confirm),np.ndarray.flatten(fear_score))\n",
    "plt.show()\n",
    "plt.scatter(np.ndarray.flatten(confirm),np.ndarray.flatten(hope_score))\n",
    "\n",
    "bias_emo=[]\n",
    "non_bias_emo=[]\n",
    "bias_rel=[]\n",
    "non_bias_rel=[]\n",
    "bias_fear=[]\n",
    "non_bias_fear=[]\n",
    "bias_hope=[]\n",
    "non_bias_hope=[]\n",
    "for i in bias_q:\n",
    "    bias_emo.append(np.mean(emo_score,axis=0)[i])\n",
    "    bias_rel.append(np.mean(rel_score,axis=0)[i])\n",
    "    bias_fear.append(np.mean(fear_score,axis=0)[i])\n",
    "    bias_hope.append(np.mean(hope_score,axis=0)[i])\n",
    "for i in non_bias_q:\n",
    "    non_bias_emo.append(np.mean(emo_score,axis=0)[i])\n",
    "    non_bias_rel.append(np.mean(rel_score,axis=0)[i])\n",
    "    non_bias_fear.append(np.mean(fear_score,axis=0)[i])\n",
    "    non_bias_hope.append(np.mean(hope_score,axis=0)[i])"
   ]
  },
  {
   "cell_type": "code",
   "execution_count": 127,
   "metadata": {},
   "outputs": [
    {
     "name": "stdout",
     "output_type": "stream",
     "text": [
      "41.33181818181818 37.86363636363637\n",
      "10.211198764344894\n",
      "51.418181818181814 52.33471074380166\n",
      "9.677671157603504\n",
      "39.10454545454545 33.303719008264466\n",
      "38.04090909090909 40.11363636363637\n"
     ]
    }
   ],
   "source": [
    "#calculate fear and hope scores for conf-biased and non-conf-biased questions\n",
    "print(np.mean(bias_emo),np.mean(non_bias_emo))\n",
    "print(np.std(bias_fear)*1.96/np.sqrt(len(bias_fear)))\n",
    "print(np.mean(bias_rel),np.mean(non_bias_rel))\n",
    "print(np.std(bias_hope)*1.96/np.sqrt(len(bias_hope)))\n",
    "print(np.mean(bias_fear),np.mean(non_bias_fear))\n",
    "print(np.mean(bias_hope),np.mean(non_bias_hope))"
   ]
  },
  {
   "cell_type": "code",
   "execution_count": 128,
   "metadata": {},
   "outputs": [
    {
     "data": {
      "image/png": "[encoded data removed]",
      "text/plain": [
       "<matplotlib.figure.Figure at 0x26d8d801940>"
      ]
     },
     "metadata": {},
     "output_type": "display_data"
    }
   ],
   "source": [
    "import numpy as np\n",
    "from basic_units import cm, inch\n",
    "import matplotlib.pyplot as plt\n",
    "\n",
    "\n",
    "N = 2\n",
    "biasMeans = (np.mean(bias_fear),np.mean(bias_hope))\n",
    "biasStd = (1.96*np.std(bias_fear)/np.sqrt(len(bias_fear)), (1.96*np.std(bias_hope)/np.sqrt(len(bias_hope))))\n",
    "\n",
    "fig, ax = plt.subplots(figsize=(10,6))\n",
    "ind = np.arange(N)    # the x locations for the groups\n",
    "width = 0.25         # the width of the bars\n",
    "p1 = ax.bar(ind, biasMeans, width, color='m', bottom=0, yerr=biasStd)\n",
    "\n",
    "\n",
    "unbiasMeans = (np.mean(non_bias_fear),np.mean(non_bias_hope))\n",
    "unbiasStd = (1.96*np.std(bias_fear)/np.sqrt(len(bias_fear)), (1.96*np.std(bias_hope)/np.sqrt(len(bias_hope))))\n",
    "p2 = ax.bar(ind + width, unbiasMeans, width,\n",
    "            color='c', bottom=0, yerr=unbiasStd)\n",
    "\n",
    "ax.set_title('Fear and Hope Scores')\n",
    "ax.set_xticks(ind + width / 2)\n",
    "ax.set_xticklabels(('Fear', 'Hope'))\n",
    "ax.legend((p1[0], p2[0]), ('C', 'D'), loc=9)\n",
    "#ax.yaxis.set_units(inch)\n",
    "ax.autoscale_view()\n",
    "\n",
    "plt.show()"
   ]
  },
  {
   "cell_type": "code",
   "execution_count": 129,
   "metadata": {},
   "outputs": [
    {
     "name": "stdout",
     "output_type": "stream",
     "text": [
      "Ttest_indResult(statistic=0.9121149040345565, pvalue=0.3771473208106022)\n",
      "Ttest_indResult(statistic=-0.33233237073440025, pvalue=0.744561836263429)\n",
      "Ttest_indResult(statistic=0.7983893928154266, pvalue=0.4379789845402081)\n",
      "Ttest_indResult(statistic=-0.16673734582765382, pvalue=0.8699609676426805)\n"
     ]
    }
   ],
   "source": [
    "#test for significant results\n",
    "print(stats.ttest_ind(bias_fear,non_bias_fear))\n",
    "print(stats.ttest_ind(bias_hope,non_bias_hope))\n",
    "print(stats.ttest_ind(bias_emo,non_bias_emo))\n",
    "print(stats.ttest_ind(bias_rel,non_bias_rel))"
   ]
  },
  {
   "cell_type": "code",
   "execution_count": 130,
   "metadata": {},
   "outputs": [
    {
     "name": "stdout",
     "output_type": "stream",
     "text": [
      "21\n",
      "14\n",
      "19\n",
      "19\n"
     ]
    }
   ],
   "source": [
    "#define high and low-trait groups.\n",
    "high_opt=[]\n",
    "low_opt=[]\n",
    "for i in range(no_ind):\n",
    "    if lotr_scores[i]>np.median(lotr_scores):\n",
    "        high_opt.append(i)\n",
    "    else:\n",
    "        low_opt.append(i)\n",
    "print(len(high_opt))\n",
    "\n",
    "high_anx=[]\n",
    "low_anx=[]\n",
    "for i in range(no_ind):\n",
    "    if gad_scores[i]>5:\n",
    "        high_anx.append(i)\n",
    "    else:\n",
    "        low_anx.append(i)\n",
    "print(len(high_anx))\n",
    "\n",
    "high_pas=[]\n",
    "low_pas=[]\n",
    "for i in range(no_ind):\n",
    "    if pas_scores[i]>np.median(pas_scores):\n",
    "        high_pas.append(i)\n",
    "    else:\n",
    "        low_pas.append(i)\n",
    "print(len(high_pas))\n",
    "\n",
    "high_nas=[]\n",
    "low_nas=[]\n",
    "for i in range(no_ind):\n",
    "    if nas_scores[i]>np.median(nas_scores):\n",
    "        high_nas.append(i)\n",
    "    else:\n",
    "        low_nas.append(i)\n",
    "print(len(high_nas))\n"
   ]
  },
  {
   "cell_type": "code",
   "execution_count": 153,
   "metadata": {},
   "outputs": [
    {
     "name": "stdout",
     "output_type": "stream",
     "text": [
      "SpearmanrResult(correlation=-0.07297113831608686, pvalue=0.6378338454030388)\n",
      "SpearmanrResult(correlation=0.11081448276042519, pvalue=0.47392401852430177)\n",
      "SpearmanrResult(correlation=0.15202864394722104, pvalue=0.32454828299270866)\n",
      "SpearmanrResult(correlation=-0.08311441449954145, pvalue=0.591698269825384)\n",
      "SpearmanrResult(correlation=0.7260042283298097, pvalue=2.448096728621897e-08)\n"
     ]
    }
   ],
   "source": [
    "#correlations with conservatism measures\n",
    "print(stats.spearmanr(weight_evid,pas_scores))\n",
    "print(stats.spearmanr(weight_evid,gad_scores))\n",
    "print(stats.spearmanr(beta,lotr_scores))\n",
    "print(stats.spearmanr(beta,nas_scores))\n",
    "print(stats.spearmanr(beta,weight_evid))"
   ]
  },
  {
   "cell_type": "code",
   "execution_count": 154,
   "metadata": {},
   "outputs": [
    {
     "name": "stdout",
     "output_type": "stream",
     "text": [
      "(-0.4073248323355741, 1.6244929726201694e-29)\n",
      "[45.25       47.18181818 24.56818182 49.61363636 29.29545455 38.27272727\n",
      " 34.68181818 52.81818182 34.81818182 20.13636364 22.95454545 16.97727273\n",
      " 40.75       25.54545455 27.84090909 51.15909091]\n"
     ]
    }
   ],
   "source": [
    "print(stats.pearsonr(np.ndarray.flatten(fear_score),np.ndarray.flatten(hope_score)))\n",
    "print(np.mean(fear_score,axis=0))"
   ]
  },
  {
   "cell_type": "code",
   "execution_count": 155,
   "metadata": {},
   "outputs": [
    {
     "data": {
      "text/plain": [
       "35.11647727272727"
      ]
     },
     "execution_count": 155,
     "metadata": {},
     "output_type": "execute_result"
    }
   ],
   "source": [
    "np.mean(fear_score)"
   ]
  },
  {
   "cell_type": "code",
   "execution_count": 156,
   "metadata": {},
   "outputs": [],
   "source": [
    "#function which returns mean bias for low and high-trait groups and t-test between two groups\n",
    "def trait_compare(high,low,confirm_type):\n",
    "    confirm_high=[]\n",
    "    confirm_low=[]\n",
    "    for i in high:\n",
    "        confirm_high.append(confirm_type[i])\n",
    "    for i in low:\n",
    "        confirm_low.append(confirm_type[i])\n",
    "    return [np.mean(confirm_high), 1.96*np.std(confirm_high)/np.sqrt(len(confirm_high)),\n",
    "np.mean(confirm_low), 1.96*np.std(confirm_low)/np.sqrt(len(confirm_low)), stats.ttest_ind(confirm_high,confirm_low)]"
   ]
  },
  {
   "cell_type": "code",
   "execution_count": 157,
   "metadata": {},
   "outputs": [
    {
     "name": "stdout",
     "output_type": "stream",
     "text": [
      "Ttest_indResult(statistic=-1.5916339612452675, pvalue=0.11896658146852077)\n",
      "Ttest_indResult(statistic=0.3042822807740282, pvalue=0.7624154058079045)\n",
      "Ttest_indResult(statistic=1.0726499946014127, pvalue=0.2895529358903498)\n",
      "Ttest_indResult(statistic=0.025314115959813293, pvalue=0.9799243091378522)\n"
     ]
    }
   ],
   "source": [
    "#Do trait comparison for each of 4 trait measurements (interchange model type)\n",
    "anx_arr=trait_compare(high_anx,low_anx,confirm_rl)\n",
    "print(anx_arr[4])\n",
    "opt_arr=trait_compare(high_opt,low_opt,confirm_rl)\n",
    "print(opt_arr[4])\n",
    "pas_arr=trait_compare(high_pas,low_pas,confirm_rl)\n",
    "print(pas_arr[4])\n",
    "nas_arr=trait_compare(high_nas,low_pas,confirm_rl)\n",
    "print(nas_arr[4])"
   ]
  },
  {
   "cell_type": "code",
   "execution_count": 158,
   "metadata": {},
   "outputs": [
    {
     "name": "stdout",
     "output_type": "stream",
     "text": [
      "39.68958333333333\n",
      "10.250110155223355\n",
      "38.986607142857146\n",
      "15.54531845223024\n"
     ]
    }
   ],
   "source": [
    "low_fear=np.zeros((len(low_anx),16))\n",
    "k=0\n",
    "for i in low_anx:\n",
    "    for j in range(16):\n",
    "        low_fear[k][j]=(hope_score[i][j])\n",
    "    k+=1\n",
    "anx_fear=np.zeros((len(high_anx),16))\n",
    "k=0\n",
    "for i in high_anx:\n",
    "    for j in range(16):\n",
    "        anx_fear[k][j]=(hope_score[i][j])\n",
    "    k+=1\n",
    "print(np.mean(low_fear))\n",
    "print(1.96*np.std(low_fear)/np.sqrt(len(low_fear)))\n",
    "print(np.mean(anx_fear))\n",
    "print(1.96*np.std(anx_fear)/np.sqrt(len(anx_fear)))"
   ]
  },
  {
   "cell_type": "code",
   "execution_count": 159,
   "metadata": {},
   "outputs": [
    {
     "data": {
      "image/png": "[encoded data removed]",
      "text/plain": [
       "<matplotlib.figure.Figure at 0x26d8bf65cf8>"
      ]
     },
     "metadata": {},
     "output_type": "display_data"
    }
   ],
   "source": [
    "#Plot for trait comparison, adapted from matplotlib guide on bar plots.\n",
    "\n",
    "import numpy as np\n",
    "from basic_units import cm, inch\n",
    "import matplotlib.pyplot as plt\n",
    "\n",
    "N = 4\n",
    "highMeans = (anx_arr[0],opt_arr[0],pas_arr[0],nas_arr[0])\n",
    "highStd = (anx_arr[1],opt_arr[1],pas_arr[1],nas_arr[1])\n",
    "\n",
    "fig, ax = plt.subplots(figsize=(10,6))\n",
    "ind = np.arange(N)    # the x locations for the groups\n",
    "width = 0.25         # the width of the bars\n",
    "p1 = ax.bar(ind, highMeans, width, color='y', bottom=0, yerr=highStd)\n",
    "\n",
    "\n",
    "lowMeans = (anx_arr[2],opt_arr[2],pas_arr[2],nas_arr[2])\n",
    "lowStd = (anx_arr[3],opt_arr[3],pas_arr[3],nas_arr[3])\n",
    "p2 = ax.bar(ind + width, lowMeans, width,\n",
    "            color='m', bottom=0, yerr=lowStd)\n",
    "\n",
    "ax.set_title('Bias for High and Low Trait Scores')\n",
    "ax.set_xticks(ind + width / 2)\n",
    "ax.set_xticklabels(('Anxiety', 'Optimism','Pos. Affect','Neg. Affect'))\n",
    "ax.legend((p1[0], p2[0]), ('High', 'Low'), loc=9)\n",
    "ax.axhline(color='k')\n",
    "ax.set_ylabel('Confirmation Bias')\n",
    "ax.autoscale_view()\n",
    "\n",
    "plt.show()"
   ]
  },
  {
   "cell_type": "code",
   "execution_count": 161,
   "metadata": {},
   "outputs": [
    {
     "name": "stdout",
     "output_type": "stream",
     "text": [
      "SpearmanrResult(correlation=-0.06801128821917152, pvalue=0.660910138449226)\n",
      "SpearmanrResult(correlation=0.0891384272403158, pvalue=0.5650188242849564)\n",
      "SpearmanrResult(correlation=0.19363728355672977, pvalue=0.20787593741002272)\n",
      "SpearmanrResult(correlation=-0.2425888642193631, pvalue=0.11259634376458175)\n"
     ]
    }
   ],
   "source": [
    "#correlations with acquisition bias scores\n",
    "acq_bias=np.zeros((no_ind,16))\n",
    "for i in range(no_ind):\n",
    "    for j in range(16):\n",
    "        acq_bias[i][j]=no_blanc[i][j]-no_noir[i][j]\n",
    "print(stats.spearmanr(np.mean(acq_bias,axis=1),gad_scores))\n",
    "print(stats.spearmanr(np.mean(acq_bias,axis=1),lotr_scores))\n",
    "print(stats.spearmanr(np.mean(acq_bias,axis=1),pas_scores))\n",
    "print(stats.spearmanr(np.mean(confirm,axis=1),nas_scores))"
   ]
  },
  {
   "cell_type": "code",
   "execution_count": 162,
   "metadata": {},
   "outputs": [
    {
     "name": "stdout",
     "output_type": "stream",
     "text": [
      "(-0.058205855797567485, 0.7074392833414026)\n",
      "(0.04549635174247324, 0.7693291387700671)\n",
      "(-0.18951808993073976, 0.21789924047276346)\n",
      "(0.0316590347433983, 0.8383474818282391)\n"
     ]
    }
   ],
   "source": [
    "print(stats.pearsonr(p_update,gad_scores))\n",
    "print(stats.pearsonr(p_update,lotr_scores))\n",
    "print(stats.pearsonr(p_update,pas_scores))\n",
    "print(stats.pearsonr(p_update,nas_scores))"
   ]
  },
  {
   "cell_type": "code",
   "execution_count": 163,
   "metadata": {},
   "outputs": [
    {
     "name": "stdout",
     "output_type": "stream",
     "text": [
      "(-0.08418895859527342, 0.5868986215520324)\n",
      "(0.0005149313680557157, 0.9973531553913699)\n",
      "(-0.11356432421430528, 0.462952513511964)\n",
      "(-0.14289309959494353, 0.35479991525623)\n"
     ]
    }
   ],
   "source": [
    "print(stats.pearsonr(np.mean(abs(50-before),axis=1),gad_scores))\n",
    "print(stats.pearsonr(np.mean(abs(50-before),axis=1),lotr_scores))\n",
    "print(stats.pearsonr(np.mean(abs(50-before),axis=1),pas_scores))\n",
    "print(stats.pearsonr(np.mean(abs(50-before),axis=1),nas_scores))"
   ]
  },
  {
   "cell_type": "code",
   "execution_count": 164,
   "metadata": {},
   "outputs": [
    {
     "name": "stdout",
     "output_type": "stream",
     "text": [
      "(0.23622474877693578, 0.12264446554174971)\n",
      "(0.4639663803209498, 0.001512646313698306)\n",
      "(-0.11356432421430528, 0.462952513511964)\n",
      "(-0.14289309959494353, 0.35479991525623)\n"
     ]
    }
   ],
   "source": [
    "print(stats.pearsonr(np.mean(abs(50-before),axis=1),new_confirm))\n",
    "print(stats.pearsonr(np.mean(abs(50-before),axis=1),np.mean(confirm,axis=1)))\n",
    "print(stats.pearsonr(np.mean(abs(50-before),axis=1),pas_scores))\n",
    "print(stats.pearsonr(np.mean(abs(50-before),axis=1),nas_scores))"
   ]
  },
  {
   "cell_type": "code",
   "execution_count": 166,
   "metadata": {},
   "outputs": [
    {
     "data": {
      "text/plain": [
       "<matplotlib.figure.Figure at 0x26d8be680f0>"
      ]
     },
     "metadata": {},
     "output_type": "display_data"
    },
    {
     "data": {
      "image/png": "[encoded data removed]",
      "text/plain": [
       "<matplotlib.figure.Figure at 0x26d8be68748>"
      ]
     },
     "metadata": {},
     "output_type": "display_data"
    }
   ],
   "source": [
    "#Distribution of scores for personality questionnaires\n",
    "plt.figure(figsize=(14,6))\n",
    "fig, axes = plt.subplots(nrows=2, ncols=2)\n",
    "axes[0, 0].set_title('GAD scores')\n",
    "axes[0,0].set_xlabel('Score')\n",
    "axes[0,0].set_ylabel('Frequency')\n",
    "axes[0,0].hist(gad_scores,color='r')\n",
    "axes[0, 1].set_title('PA scores')\n",
    "axes[0,1].hist(pas_scores,color='y')\n",
    "axes[0,1].set_xlabel('Score')\n",
    "axes[0,1].set_ylabel('Frequency')\n",
    "axes[1, 0].set_title('LOT-R scores')\n",
    "axes[1,0].hist(lotr_scores,color='c')\n",
    "axes[1,0].set_xlabel('Score')\n",
    "axes[1,0].set_ylabel('Frequency')\n",
    "axes[1,1].set_title('NA scores')\n",
    "axes[1,1].hist(nas_scores,color='b')\n",
    "axes[1,1].set_xlabel('Score')\n",
    "axes[1,1].set_ylabel('Frequency')\n",
    "fig.set_figheight(6)\n",
    "fig.set_figwidth(12)\n",
    "fig.tight_layout()"
   ]
  },
  {
   "cell_type": "code",
   "execution_count": null,
   "metadata": {},
   "outputs": [],
   "source": []
  }
 ],
 "metadata": {
  "kernelspec": {
   "display_name": "Python 3",
   "language": "python",
   "name": "python3"
  },
  "language_info": {
   "codemirror_mode": {
    "name": "ipython",
    "version": 3
   },
   "file_extension": ".py",
   "mimetype": "text/x-python",
   "name": "python",
   "nbconvert_exporter": "python",
   "pygments_lexer": "ipython3",
   "version": "3.6.4"
  }
 },
 "nbformat": 4,
 "nbformat_minor": 2
}
